{
 "cells": [
  {
   "cell_type": "code",
   "execution_count": 1,
   "metadata": {},
   "outputs": [],
   "source": [
    "using Plots\n",
    "using LinearAlgebra"
   ]
  },
  {
   "cell_type": "code",
   "execution_count": 2,
   "metadata": {},
   "outputs": [
    {
     "data": {
      "text/plain": [
       "mohrs_circle (generic function with 1 method)"
      ]
     },
     "execution_count": 2,
     "metadata": {},
     "output_type": "execute_result"
    }
   ],
   "source": [
    "function circleShape(x,y,r)\n",
    "    \n",
    "    theta = LinRange(3*pi/2, 5*pi/2, 1001)\n",
    "    (x.+ r*sin.(theta)), (y .+ r*cos.(theta))\n",
    "    \n",
    "end\n",
    "\n",
    "function mohrs_circle(x)\n",
    "    \n",
    "    center_middle = (x[1,1] + x[2,2])/2\n",
    "    radius_middle = (x[1,1] - x[2,2])/2\n",
    "    \n",
    "    center_minor = (x[2,2] + x[3,3])/2\n",
    "    radius_minor = (x[2,2] - x[3,3])/2\n",
    "    \n",
    "    center_major = (x[1,1] + x[3,3])/2\n",
    "    radius_major = (x[1,1] - x[3,3])/2\n",
    "    \n",
    "    theta = LinRange(0,90,1001)\n",
    "    \n",
    "    \n",
    "    plot(circleShape(center_middle, 0, radius_middle), label = false)\n",
    "    plot!(circleShape(center_minor, 0,radius_minor), label = false)\n",
    "    plot!(circleShape(center_major, 0, radius_major), label = false)\n",
    "    ylabel!(\"Shear Stress (psi)\")\n",
    "    xlabel!(\"Normal Stress (psi)\")\n",
    "    \n",
    "end"
   ]
  }
 ],
 "metadata": {
  "kernelspec": {
   "display_name": "Julia 1.4.1",
   "language": "julia",
   "name": "julia-1.4"
  },
  "language_info": {
   "file_extension": ".jl",
   "mimetype": "application/julia",
   "name": "julia",
   "version": "1.4.1"
  }
 },
 "nbformat": 4,
 "nbformat_minor": 2
}
